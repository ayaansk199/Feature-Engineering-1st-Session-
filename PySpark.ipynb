{
  "nbformat": 4,
  "nbformat_minor": 0,
  "metadata": {
    "colab": {
      "name": "PySpark.ipynb",
      "provenance": [],
      "collapsed_sections": [],
      "mount_file_id": "1whxOIpK4jylCVTNikaAQwEkJy3Fm1glo",
      "authorship_tag": "ABX9TyPFv15sSi9Us/PhXzfxSOLH",
      "include_colab_link": true
    },
    "kernelspec": {
      "name": "python3",
      "display_name": "Python 3"
    },
    "language_info": {
      "name": "python"
    }
  },
  "cells": [
    {
      "cell_type": "markdown",
      "metadata": {
        "id": "view-in-github",
        "colab_type": "text"
      },
      "source": [
        "<a href=\"https://colab.research.google.com/github/ayaansk199/Feature-Engineering-1st-Session-/blob/main/PySpark.ipynb\" target=\"_parent\"><img src=\"https://colab.research.google.com/assets/colab-badge.svg\" alt=\"Open In Colab\"/></a>"
      ]
    },
    {
      "cell_type": "code",
      "execution_count": 133,
      "metadata": {
        "colab": {
          "base_uri": "https://localhost:8080/"
        },
        "id": "pla43_yKtFth",
        "outputId": "c4d2b0ca-5154-41b0-8213-7d0c4cc0d856"
      },
      "outputs": [
        {
          "output_type": "stream",
          "name": "stdout",
          "text": [
            "Requirement already satisfied: pyspark in /usr/local/lib/python3.7/dist-packages (3.2.1)\n",
            "Requirement already satisfied: py4j==0.10.9.3 in /usr/local/lib/python3.7/dist-packages (from pyspark) (0.10.9.3)\n"
          ]
        }
      ],
      "source": [
        "!pip install pyspark"
      ]
    },
    {
      "cell_type": "code",
      "source": [
        "import pyspark"
      ],
      "metadata": {
        "id": "0B3ftFO_tL9t"
      },
      "execution_count": 134,
      "outputs": []
    },
    {
      "cell_type": "code",
      "source": [
        "from pyspark.sql import SparkSession"
      ],
      "metadata": {
        "id": "P1NbMV26tR7W"
      },
      "execution_count": 135,
      "outputs": []
    },
    {
      "cell_type": "code",
      "source": [
        "spark = SparkSession.builder.appName(\"My_Practice\").getOrCreate()"
      ],
      "metadata": {
        "id": "CCpggbE_tTxX"
      },
      "execution_count": 136,
      "outputs": []
    },
    {
      "cell_type": "code",
      "source": [
        "spark\n"
      ],
      "metadata": {
        "colab": {
          "base_uri": "https://localhost:8080/",
          "height": 222
        },
        "id": "wG6iSSqYu9dP",
        "outputId": "728ba0b9-6a3e-47af-dc9f-c3cfd13427a5"
      },
      "execution_count": 137,
      "outputs": [
        {
          "output_type": "execute_result",
          "data": {
            "text/html": [
              "\n",
              "            <div>\n",
              "                <p><b>SparkSession - in-memory</b></p>\n",
              "                \n",
              "        <div>\n",
              "            <p><b>SparkContext</b></p>\n",
              "\n",
              "            <p><a href=\"http://b090f787620d:4040\">Spark UI</a></p>\n",
              "\n",
              "            <dl>\n",
              "              <dt>Version</dt>\n",
              "                <dd><code>v3.2.1</code></dd>\n",
              "              <dt>Master</dt>\n",
              "                <dd><code>local[*]</code></dd>\n",
              "              <dt>AppName</dt>\n",
              "                <dd><code>My_Practice</code></dd>\n",
              "            </dl>\n",
              "        </div>\n",
              "        \n",
              "            </div>\n",
              "        "
            ],
            "text/plain": [
              "<pyspark.sql.session.SparkSession at 0x7f6590cf2d50>"
            ]
          },
          "metadata": {},
          "execution_count": 137
        }
      ]
    },
    {
      "cell_type": "code",
      "source": [
        "df_pyspark = spark.read.csv(\"/content/carprices.csv\",header=True)"
      ],
      "metadata": {
        "id": "qOaQZLk7u-cY"
      },
      "execution_count": 138,
      "outputs": []
    },
    {
      "cell_type": "code",
      "source": [
        "type(df_pyspark) #Output: pyspark.sql.dataframe.Data Frame"
      ],
      "metadata": {
        "colab": {
          "base_uri": "https://localhost:8080/"
        },
        "id": "IXm9pdUFSbuA",
        "outputId": "a27268af-a6b8-4435-b470-a6e19c0f795d"
      },
      "execution_count": 139,
      "outputs": [
        {
          "output_type": "execute_result",
          "data": {
            "text/plain": [
              "pyspark.sql.dataframe.DataFrame"
            ]
          },
          "metadata": {},
          "execution_count": 139
        }
      ]
    },
    {
      "cell_type": "code",
      "source": [
        "df_pyspark.show()"
      ],
      "metadata": {
        "id": "dWUFdza4v90B",
        "colab": {
          "base_uri": "https://localhost:8080/"
        },
        "outputId": "6b127985-a9ca-4178-efbf-bd3bc3049133"
      },
      "execution_count": 140,
      "outputs": [
        {
          "output_type": "stream",
          "name": "stdout",
          "text": [
            "+--------------------+-------+--------+-------------+----+----+----+-------+-------+\n",
            "|           Car Model|Mileage|Age(yrs)|Sell Price($)| _c4| _c5| _c6|    _c7|    _c8|\n",
            "+--------------------+-------+--------+-------------+----+----+----+-------+-------+\n",
            "|              BMW X5|  69000|       6|        18000|null|null|null|X_train|y_train|\n",
            "|              BMW X5|  35000|       3|        34000|null|null|null| X_test| y_test|\n",
            "|              BMW X5|  57000|       5|        26100|null|null|null|   null|   null|\n",
            "|              BMW X5|  22500|       2|        40000|null|null|null|   null|   null|\n",
            "|              BMW X5|  46000|       4|        31500|null|null|null|   null|   null|\n",
            "|             Audi A5|  59000|       5|        29400|null|null|null|   null|   null|\n",
            "|             Audi A5|  52000|       5|        32000|null|null|null|   null|   null|\n",
            "|             Audi A5|  72000|       6|        19300|null|null|null|   null|   null|\n",
            "|             Audi A5|  91000|       8|        12000|null|null|null|   null|   null|\n",
            "|Mercedez Benz C c...|  67000|       6|        22000|null|null|null|   null|   null|\n",
            "|Mercedez Benz C c...|  83000|       7|        20000|null|null|null|   null|   null|\n",
            "|Mercedez Benz C c...|  79000|       7|        21000|null|null|null|   null|   null|\n",
            "|Mercedez Benz C c...|  59000|       5|        33000|null|null|null|   null|   null|\n",
            "+--------------------+-------+--------+-------------+----+----+----+-------+-------+\n",
            "\n"
          ]
        }
      ]
    },
    {
      "cell_type": "code",
      "source": [
        "df_pyspark.createOrReplaceTempView(\"temp\")"
      ],
      "metadata": {
        "id": "15WfknCU1UXf"
      },
      "execution_count": 141,
      "outputs": []
    },
    {
      "cell_type": "code",
      "source": [
        "df_pyspark = spark.sql(\"select * from temp limit 5\").show()"
      ],
      "metadata": {
        "colab": {
          "base_uri": "https://localhost:8080/"
        },
        "id": "sC17zY731kFI",
        "outputId": "d3650db5-ed42-43f7-cdb1-1efca6494046"
      },
      "execution_count": 142,
      "outputs": [
        {
          "output_type": "stream",
          "name": "stdout",
          "text": [
            "+---------+-------+--------+-------------+----+----+----+-------+-------+\n",
            "|Car Model|Mileage|Age(yrs)|Sell Price($)| _c4| _c5| _c6|    _c7|    _c8|\n",
            "+---------+-------+--------+-------------+----+----+----+-------+-------+\n",
            "|   BMW X5|  69000|       6|        18000|null|null|null|X_train|y_train|\n",
            "|   BMW X5|  35000|       3|        34000|null|null|null| X_test| y_test|\n",
            "|   BMW X5|  57000|       5|        26100|null|null|null|   null|   null|\n",
            "|   BMW X5|  22500|       2|        40000|null|null|null|   null|   null|\n",
            "|   BMW X5|  46000|       4|        31500|null|null|null|   null|   null|\n",
            "+---------+-------+--------+-------------+----+----+----+-------+-------+\n",
            "\n"
          ]
        }
      ]
    },
    {
      "cell_type": "code",
      "source": [
        "import numpy as np\n",
        "import pandas as pd\n",
        "\n",
        "# Enable Arrow-based columnar data transfers\n",
        "spark.conf.set(\"spark.sql.execution.arrow.enabled\", \"true\")\n",
        "#Runnimg pyspark data frame\n",
        "df_pyspark\n",
        "# Convert the Spark DataFrame back to a pandas DataFrame using Arrow\n",
        "result_pdf = df_pyspark.select(\"*\").toPandas()"
      ],
      "metadata": {
        "id": "ajJCQ6MEjru_"
      },
      "execution_count": 150,
      "outputs": []
    },
    {
      "cell_type": "code",
      "source": [
        "print(type(df_pyspark))\n",
        "print(type(result_pdf))"
      ],
      "metadata": {
        "colab": {
          "base_uri": "https://localhost:8080/"
        },
        "id": "7_52Sj9uj8sa",
        "outputId": "57823d95-6a71-41ee-c925-c7788b941b7d"
      },
      "execution_count": 154,
      "outputs": [
        {
          "output_type": "stream",
          "name": "stdout",
          "text": [
            "<class 'pyspark.sql.dataframe.DataFrame'>\n",
            "<class 'pandas.core.frame.DataFrame'>\n"
          ]
        }
      ]
    },
    {
      "cell_type": "code",
      "source": [
        "from google.colab import files\n",
        "\n",
        "result_pdf.to_csv('PY SPARK OUTPUT.csv', encoding = 'utf-8-sig') \n",
        "files.download('PY SPARK OUTPUT.csv')"
      ],
      "metadata": {
        "colab": {
          "base_uri": "https://localhost:8080/",
          "height": 17
        },
        "id": "SVbyUcWtnXXi",
        "outputId": "915875bd-ddf2-4693-b675-4a91ee38a243"
      },
      "execution_count": 157,
      "outputs": [
        {
          "output_type": "display_data",
          "data": {
            "application/javascript": [
              "\n",
              "    async function download(id, filename, size) {\n",
              "      if (!google.colab.kernel.accessAllowed) {\n",
              "        return;\n",
              "      }\n",
              "      const div = document.createElement('div');\n",
              "      const label = document.createElement('label');\n",
              "      label.textContent = `Downloading \"${filename}\": `;\n",
              "      div.appendChild(label);\n",
              "      const progress = document.createElement('progress');\n",
              "      progress.max = size;\n",
              "      div.appendChild(progress);\n",
              "      document.body.appendChild(div);\n",
              "\n",
              "      const buffers = [];\n",
              "      let downloaded = 0;\n",
              "\n",
              "      const channel = await google.colab.kernel.comms.open(id);\n",
              "      // Send a message to notify the kernel that we're ready.\n",
              "      channel.send({})\n",
              "\n",
              "      for await (const message of channel.messages) {\n",
              "        // Send a message to notify the kernel that we're ready.\n",
              "        channel.send({})\n",
              "        if (message.buffers) {\n",
              "          for (const buffer of message.buffers) {\n",
              "            buffers.push(buffer);\n",
              "            downloaded += buffer.byteLength;\n",
              "            progress.value = downloaded;\n",
              "          }\n",
              "        }\n",
              "      }\n",
              "      const blob = new Blob(buffers, {type: 'application/binary'});\n",
              "      const a = document.createElement('a');\n",
              "      a.href = window.URL.createObjectURL(blob);\n",
              "      a.download = filename;\n",
              "      div.appendChild(a);\n",
              "      a.click();\n",
              "      div.remove();\n",
              "    }\n",
              "  "
            ],
            "text/plain": [
              "<IPython.core.display.Javascript object>"
            ]
          },
          "metadata": {}
        },
        {
          "output_type": "display_data",
          "data": {
            "application/javascript": [
              "download(\"download_947765c4-c726-4307-8387-df3d2b9ada47\", \"PY SPARK OUTPUT.csv\", 557)"
            ],
            "text/plain": [
              "<IPython.core.display.Javascript object>"
            ]
          },
          "metadata": {}
        }
      ]
    },
    {
      "cell_type": "code",
      "source": [
        ""
      ],
      "metadata": {
        "id": "059d6BZroMA1"
      },
      "execution_count": null,
      "outputs": []
    }
  ]
}